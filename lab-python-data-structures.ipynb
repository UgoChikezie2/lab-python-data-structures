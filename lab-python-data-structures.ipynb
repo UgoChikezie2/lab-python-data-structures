{
 "cells": [
  {
   "cell_type": "markdown",
   "metadata": {
    "tags": []
   },
   "source": [
    "# Lab | Data Structures "
   ]
  },
  {
   "cell_type": "code",
   "execution_count": null,
   "metadata": {},
   "outputs": [
    {
     "name": "stdin",
     "output_type": "stream",
     "text": [
      "Enter stock quantity for t-shirt:  10\n",
      "Enter stock quantity for mug:  6\n",
      "Enter stock quantity for hat:  5\n",
      "Enter stock quantity for book:  7\n",
      "Enter stock quantity for keychain:  9\n"
     ]
    }
   ],
   "source": [
    "products = [\"t-shirt\", \"mug\", \"hat\", \"book\", \"keychain\"]\n",
    "\n",
    "inventory = {}\n",
    "\n",
    "for item in products:\n",
    "    qty = int(input(f\"Enter stock quantity for {item}: \"))\n",
    "    inventory[item] = qty\n",
    "\n",
    "customer_orders = set()\n",
    "\n",
    "for i in range(3):\n",
    "    order = input(f\"Enter the name of product #{i+1} to order: \")\n",
    "    if order in products:\n",
    "        customer_orders.add(order)\n",
    "\n",
    "print(\"Products ordered by the customer:\", customer_orders)\n",
    "\n",
    "total_products_ordered = len(customer_orders)\n",
    "percentage_ordered = (total_products_ordered / len(products)) * 100\n",
    "order_status = (total_products_ordered, percentage_ordered)\n",
    "\n",
    "print(\"Order Statistics:\")\n",
    "print(\"Total Products Ordered:\", order_status[0])\n",
    "print(\"Percentage of Products Ordered:\", order_status[1], \"%\")\n",
    "\n",
    "for item in customer_orders:\n",
    "    inventory[item] -= 1\n",
    "\n",
    "print(\"Stock after order:\")\n",
    "for item in inventory:\n",
    "    print(item, \":\", inventory[item])\n"
   ]
  },
  {
   "cell_type": "code",
   "execution_count": null,
   "metadata": {},
   "outputs": [],
   "source": [
    "products = [\"t-shirt\", \"mug\", \"hat\", \"book\", \"keychain\"]\n",
    "\n",
    "inventory = {}\n",
    "\n",
    "for item in products:\n",
    "    qty = int(input(f\"Enter stock quantity for {item}: \"))\n",
    "    inventory[item] = qty\n",
    "\n",
    "customer_orders = set()\n",
    "\n",
    "for i in range(3):\n",
    "    order = input(f\"Enter the name of product #{i+1} to order: \")\n",
    "    if order in products:\n",
    "        customer_orders.add(order)\n",
    "\n",
    "print(\"Products ordered by the customer:\", customer_orders)\n",
    "\n",
    "total_products_ordered = len(customer_orders)\n",
    "percentage_ordered = (total_products_ordered / len(products)) * 100\n",
    "order_status = (total_products_ordered, percentage_ordered)\n",
    "\n",
    "print(\"Order Statistics:\")\n",
    "print(\"Total Products Ordered:\", order_status[0])\n",
    "print(\"Percentage of Products Ordered:\", order_status[1], \"%\")\n",
    "\n",
    "for item in customer_orders:\n",
    "    inventory[item] -= 1\n",
    "\n",
    "print(\"Stock after order:\")\n",
    "for item in inventory:\n",
    "    print(item, \":\", inventory[item])\n"
   ]
  }
 ],
 "metadata": {
  "kernelspec": {
   "display_name": "Python 3 (ipykernel)",
   "language": "python",
   "name": "python3"
  },
  "language_info": {
   "codemirror_mode": {
    "name": "ipython",
    "version": 3
   },
   "file_extension": ".py",
   "mimetype": "text/x-python",
   "name": "python",
   "nbconvert_exporter": "python",
   "pygments_lexer": "ipython3",
   "version": "3.12.7"
  }
 },
 "nbformat": 4,
 "nbformat_minor": 4
}
